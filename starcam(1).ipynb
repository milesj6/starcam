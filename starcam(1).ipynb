{
 "cells": [
  {
   "cell_type": "code",
   "execution_count": null,
   "metadata": {
    "colab": {},
    "colab_type": "code",
    "id": "mViBrvUkRl39"
   },
   "outputs": [],
   "source": [
    "#%%\n",
    "\n",
    "from typing import NamedTuple, List\n",
    "import random\n",
    "from random import uniform\n",
    "import matplotlib.pyplot as plt\n",
    "import math\n",
    "\n",
    "# 2D world/earth surface\n",
    "# one \"world coordinate frame\", origin (0, 0), x-axis to the right, y-axis up\n",
    "\n",
    "Meter = float\n",
    "Radian = float\n",
    "\n",
    "class Point(NamedTuple):\n",
    "    x: Meter\n",
    "    y: Meter\n",
    "    \n",
    "class Circle(NamedTuple):\n",
    "    p: Point\n",
    "    r: Meter #radius\n",
    "\n",
    "class Star(NamedTuple):\n",
    "    p: Point\n",
    "    # brightness: float\n",
    "\n",
    "class Camera(NamedTuple):\n",
    "    \"\"\"\n",
    "    Assume camera is pointing directly away from earth, so the camera\n",
    "    pose is representing by one number, it's position on the surface of \n",
    "    the earth.  position == angle in [-pi, pi)\n",
    "    maybe use [0, 2pi]?\n",
    "    \"\"\"\n",
    "    angle: float  # \"position\" of camera on the earth\n",
    "    fov: Degree   # full cone angle, assume centered on center of image array\n",
    "    npixels: int  # number of pixels in final image array\n",
    "        \n",
    "Image = List[int]  # one row of pixels for our toy 2D world"
   ]
  },
  {
   "cell_type": "markdown",
   "metadata": {
    "colab_type": "text",
    "id": "WFW3LijidRC7"
   },
   "source": [
    "Here, `generate_starfield` takes a `margin` that makes sure stars are not inside of the earth by a fixed `margin`. `generate_starfield` also takes `limit` to measure the boundaries of the outmost universe."
   ]
  },
  {
   "cell_type": "code",
   "execution_count": null,
   "metadata": {
    "colab": {},
    "colab_type": "code",
    "id": "4pWf4HiCPiGR"
   },
   "outputs": [],
   "source": [
    "\"\"\"\n",
    "def cam_xy(cam: Camera) -> Point:\n",
    "    pass\n",
    "\"\"\"\n",
    "\n",
    "def distance_point_circle(p: Point, earth: Circle) -> Meter:\n",
    "    # d = distance between p and center of circle\n",
    "    d = math.sqrt((p.x - earth.p.x) ** 2 + (p.y - earth.p.y) ** 2)\n",
    "    return d #returns distance\n",
    "\n",
    "def out_earth(margin,p:Point, earth:Circle) -> bool:\n",
    "    # distance from point to circle is less than or equal to the radius of the earth\n",
    "    # .     (      .      )\n",
    "    #margin = 1.0\n",
    "    return distance_point_circle(p, earth) >= earth.r + margin\n",
    "\n",
    "def in_earth(margin,p:Point, earth:Circle) -> bool:\n",
    "    # distance from point to circle is less than or equal to the radius of the earth\n",
    "    # .     (      .      )\n",
    "    #margin = 1.0\n",
    "    return distance_point_circle(p, earth) + margin <= earth.r \n",
    "# random star field\n",
    "\"\"\"\n",
    "arguments: n_stars, circle struct to pull radius from and to get boundaries, margin, and universe size\n",
    "\"\"\"\n",
    "def generate_starfield(margin,earth:Circle,limits:Point,n_stars=100) -> List[Star]:\n",
    "  y = []\n",
    "  x = []\n",
    "  counter = 0\n",
    "  while (counter < n_stars):\n",
    "    random_xs = uniform(-1*limits.x,limits.x)\n",
    "    random_ys = uniform(-1*limits.y,limits.y)\n",
    "    k =  out_earth(margin,Point(random_xs,random_ys), earth )\n",
    "    #print(\"Are the stars outside of Earth and the margin?\" , k)\n",
    "    if (k == True):\n",
    "      y.append(random_ys)\n",
    "      x.append(random_xs)\n",
    "      counter +=1\n",
    "    else:\n",
    "      counter +=0\n",
    "  \n",
    "  return y, x\n",
    "\n",
    "def generate_camera(margin, earth:Circle):\n",
    "  x = True\n",
    "  while (x == True):\n",
    "    random_x = uniform(-1*earth.r,earth.r)\n",
    "    random_y = uniform(-1*earth.r,earth.r)\n",
    "\n",
    "    k = in_earth(margin,Point(random_x,random_y),earth)\n",
    "    #print(\"Is camera within earth and the margin? \" ,k)\n",
    "    if (k == True):\n",
    "      x = False\n",
    "  return Point(random_x,random_y)\n",
    "\n",
    "  "
   ]
  },
  {
   "cell_type": "code",
   "execution_count": null,
   "metadata": {},
   "outputs": [],
   "source": [
    "def getimage(cam: Camera, starfield: List[Star]) -> Image:\n",
    "    image = [0] * cam.npixels\n",
    "    # 1. project each star onto \"camera imager/detector/film\"\n",
    "    for star in starfield:\n",
    "        if abs(get_relative_heading(cam, star)) < cam.fov / 2.0:\n",
    "            # transform star world coords to camera frame\n",
    "            X, Y = ...\n",
    "            # perspective projection\n",
    "            x = f * X / Y\n",
    "            # light up the appropriate pixel, i, corresponding to x\n",
    "            i = ...\n",
    "    return image"
   ]
  },
  {
   "cell_type": "code",
   "execution_count": null,
   "metadata": {
    "colab": {
     "base_uri": "https://localhost:8080/",
     "height": 258
    },
    "colab_type": "code",
    "id": "bN9BGGgEPiy9",
    "outputId": "bcedf83e-3388-467a-b761-2cd43c9be7dd"
   },
   "outputs": [],
   "source": [
    "\"\"\"\n",
    "Consider making a function to generate the matplotlib\n",
    "\"\"\"\n",
    "#int main(){}\n",
    "def main():\n",
    "  #creating earth and stars\n",
    "  earth  = Circle(Point(0.0, 0.0), 10) #default coords should always be zero\n",
    "  limits = Point(30,30)\n",
    "  y,x    = generate_starfield(0,earth,limits,100)\n",
    "  # draw earth and stars and camera\n",
    "  circle1 = plt.Circle((earth.p.x, earth.p.y), earth.r , color='b',fill=False)\n",
    "  camera  = generate_camera(5, earth)\n",
    "  #Configuring settings to center the circle onto the origin and zoom out\n",
    "  plt.style.use('ggplot')\n",
    "  fig, ax = plt.subplots()\n",
    "  ax.spines['left'].set_position('zero')\n",
    "  ax.spines['right'].set_color('none')\n",
    "  ax.spines['bottom'].set_position('zero')\n",
    "  ax.spines['top'].set_color('none')\n",
    "\n",
    "  lims = (-40,40)\n",
    "  plt.xlim(lims)\n",
    "  plt.ylim(lims)\n",
    "\n",
    "  ax.add_artist(circle1)\n",
    "  plt.scatter(x,y)\n",
    "  plt.scatter(camera.x, camera.y, marker='^', c =2)\n",
    "  plt.plot()\n",
    "  plt.show()\n",
    "  # simulated image\n",
    "\n",
    "  # star map\n",
    "\n",
    "  # cross correlation image matching to known map\n",
    "\n",
    "if __name__ == \"__main__\":\n",
    "  main()\n"
   ]
  },
  {
   "cell_type": "code",
   "execution_count": null,
   "metadata": {
    "colab": {},
    "colab_type": "code",
    "id": "XBUoQ_RsqzqJ"
   },
   "outputs": [],
   "source": []
  }
 ],
 "metadata": {
  "colab": {
   "collapsed_sections": [],
   "name": "starcam(1).ipynb",
   "provenance": []
  },
  "kernelspec": {
   "display_name": "Python 3",
   "language": "python",
   "name": "python3"
  },
  "language_info": {
   "codemirror_mode": {
    "name": "ipython",
    "version": 3
   },
   "file_extension": ".py",
   "mimetype": "text/x-python",
   "name": "python",
   "nbconvert_exporter": "python",
   "pygments_lexer": "ipython3",
   "version": "3.6.6+"
  }
 },
 "nbformat": 4,
 "nbformat_minor": 1
}
